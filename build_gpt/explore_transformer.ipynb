{
 "cells": [
  {
   "cell_type": "code",
   "execution_count": 10,
   "metadata": {},
   "outputs": [],
   "source": [
    "import torch\n",
    "import torch.nn.functional as F\n",
    "from torch import nn"
   ]
  },
  {
   "cell_type": "code",
   "execution_count": 2,
   "metadata": {},
   "outputs": [],
   "source": [
    "torch.manual_seed(1337)\n",
    "\n",
    "B, T, C = 4, 8, 2\n",
    "x = torch.randn(B, T, C)"
   ]
  },
  {
   "cell_type": "code",
   "execution_count": 3,
   "metadata": {},
   "outputs": [],
   "source": [
    "# we want x[b, t] = mean(i <= t) x[b, i]\n",
    "# note that with this approach there is information loss (for example positional information)\n",
    "# also this way to compute is inefficient.\n",
    "xbow = torch.zeros(B, T, C) # b  \n",
    "for b in range(B):\n",
    "    for t in range(T):\n",
    "        xprev = x[b, :t+1] # (t, C)\n",
    "        xbow[b, t] = torch.mean(xprev, 0)"
   ]
  },
  {
   "cell_type": "code",
   "execution_count": 4,
   "metadata": {},
   "outputs": [],
   "source": [
    "# better way to compute \n",
    "wei = torch.tril(torch.ones(T, T))\n",
    "wei = wei / wei.sum(1, keepdim=True)\n",
    "xbow2 = wei @ x # (T, T) @ (B, T, C)"
   ]
  },
  {
   "cell_type": "code",
   "execution_count": 5,
   "metadata": {},
   "outputs": [],
   "source": [
    "tril = torch.tril(torch.ones(T, T))\n",
    "wei = torch.zeros((T, T))\n",
    "\n",
    "# Setting to -inf means that token from the past can't communicate with token of the future. \n",
    "wei = wei.masked_fill(tril == 0, float(\"-inf\"))\n",
    "\n",
    "wei = F.softmax(wei, dim=-1)\n",
    "xbow3 = wei @ x"
   ]
  },
  {
   "cell_type": "code",
   "execution_count": 22,
   "metadata": {},
   "outputs": [],
   "source": [
    "# self-attention\n",
    "B, T, C = 4, 8, 32\n",
    "x = torch.randn(B, T, C)\n",
    "\n",
    "head_size = 16\n",
    "key = nn.Linear(C, head_size, bias=False)\n",
    "query = nn.Linear(C, head_size, bias=False)\n",
    "value = nn.Linear(C, head_size, bias=False)\n",
    "\n",
    "# What we are doing here is checking the affinity between a set of keys and a set of queries.\n",
    "# wei[i, j] is the affinity between the query i and key j\n",
    "k = key(x) # B, T, head_size\n",
    "q = query(x)\n",
    "wei = q @ k.transpose(-2, -1) # / head_size**1/2   # B, T, T \n",
    "\n",
    "tril = torch.tril(torch.ones((T, T)))\n",
    "\n",
    "# Now we block the comunication from the future to the past, if I'm looking at the 5 word, we need the past context but future tokens can't\n",
    "# influence past tokens. The graph (in this specific case of language model) is a direct graph of past tokens pointing to future tokens and not\n",
    "# viceversa.\n",
    "wei = wei.masked_fill(tril == 0, float(\"-inf\"))\n",
    "\n",
    "# Normalize with a good distribution\n",
    "wei = F.softmax(wei, dim=-1)\n",
    "\n",
    "# v is the \"what x wants to communicate and in what way\"\n",
    "v = value(x)\n",
    "out = wei @ v\n",
    "\n",
    "\n",
    "# So basically we have 3 informations: \n",
    "# what we are looking for (query) \n",
    "# what we are offering (key)\n",
    "# in what way we encode the information (value)\n",
    "\n",
    "# 1) Attention is a communication mechanism that can be applied to direct graphs.\n",
    "# 2) Attention has no notion of position, this must be encoded in other ways.\n",
    "# 3) There is no communication between batch dimension.\n",
    "# 4) Attention is not limited to be applied on parts of the input; there are cases where full communication could be done (the graph is complete).\n",
    "# (look also encoder vs decoder)\n",
    "# 5) The attention mechanism can be implemented in different ways: self-attention (the source is the same for k, q, v), \n",
    "# cross-attention (different sources for k, q, v), etc.\n",
    "# 6) The scaled version softmax(q @ k.transpose / head_size**1/2) is done to mantain the variance of the distribution and avoid the softmax\n",
    "# converge to onehot vector. Think about what softmax does to value and see what happens when there are extreme values (we get higher probability)."
   ]
  },
  {
   "cell_type": "code",
   "execution_count": 23,
   "metadata": {},
   "outputs": [
    {
     "data": {
      "text/plain": [
       "torch.Size([4, 8, 16])"
      ]
     },
     "execution_count": 23,
     "metadata": {},
     "output_type": "execute_result"
    }
   ],
   "source": [
    "out.shape"
   ]
  },
  {
   "cell_type": "code",
   "execution_count": 21,
   "metadata": {},
   "outputs": [
    {
     "data": {
      "text/plain": [
       "tensor([[1.0000, 0.0000, 0.0000, 0.0000, 0.0000, 0.0000, 0.0000, 0.0000],\n",
       "        [0.4029, 0.5971, 0.0000, 0.0000, 0.0000, 0.0000, 0.0000, 0.0000],\n",
       "        [0.3030, 0.6489, 0.0481, 0.0000, 0.0000, 0.0000, 0.0000, 0.0000],\n",
       "        [0.1680, 0.5172, 0.1575, 0.1572, 0.0000, 0.0000, 0.0000, 0.0000],\n",
       "        [0.3082, 0.0732, 0.5796, 0.0154, 0.0236, 0.0000, 0.0000, 0.0000],\n",
       "        [0.0453, 0.5189, 0.0089, 0.0113, 0.0045, 0.4111, 0.0000, 0.0000],\n",
       "        [0.1629, 0.1323, 0.0992, 0.1143, 0.3090, 0.0110, 0.1714, 0.0000],\n",
       "        [0.0207, 0.0220, 0.0072, 0.0171, 0.0152, 0.0180, 0.0511, 0.8487]],\n",
       "       grad_fn=<SelectBackward0>)"
      ]
     },
     "execution_count": 21,
     "metadata": {},
     "output_type": "execute_result"
    }
   ],
   "source": [
    "wei[0]"
   ]
  }
 ],
 "metadata": {
  "kernelspec": {
   "display_name": "deeplearning",
   "language": "python",
   "name": "python3"
  },
  "language_info": {
   "codemirror_mode": {
    "name": "ipython",
    "version": 3
   },
   "file_extension": ".py",
   "mimetype": "text/x-python",
   "name": "python",
   "nbconvert_exporter": "python",
   "pygments_lexer": "ipython3",
   "version": "3.10.8"
  }
 },
 "nbformat": 4,
 "nbformat_minor": 2
}
